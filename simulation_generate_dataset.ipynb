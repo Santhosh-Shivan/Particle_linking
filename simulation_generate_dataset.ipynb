{
 "cells": [
  {
   "cell_type": "code",
   "execution_count": 1,
   "metadata": {},
   "outputs": [
    {
     "name": "stderr",
     "output_type": "stream",
     "text": [
      "c:\\Users\\santh\\Desktop\\Python Projects\\Masters Thesis\\Multi_particleTracking\\GraphTrack\\deeptrack\\backend\\_config.py:11: UserWarning: cupy not installed. GPU-accelerated simulations will not be possible\n",
      "  warnings.warn(\n",
      "c:\\Users\\santh\\Desktop\\Python Projects\\Masters Thesis\\Multi_particleTracking\\GraphTrack\\deeptrack\\backend\\_config.py:25: UserWarning: cupy not installed, CPU acceleration not enabled\n",
      "  warnings.warn(\"cupy not installed, CPU acceleration not enabled\")\n"
     ]
    }
   ],
   "source": [
    "import numpy as np\n",
    "import matplotlib.pyplot as plt\n",
    "import deeptrack as dt\n",
    "\n",
    "from xml.dom import minidom\n",
    "import os\n",
    "from datetime import date"
   ]
  },
  {
   "cell_type": "code",
   "execution_count": 62,
   "metadata": {},
   "outputs": [],
   "source": [
    "\n",
    "def ProcessDataset(scale_traj, shift_traj, seq_length = 10, **kwargs):\n",
    "    def inner(data):\n",
    "        trajectories = []\n",
    "        trajs = np.array(data)[:, 2:]\n",
    "        \n",
    "        # scale, shift, strip\n",
    "        for traj in trajs:\n",
    "            traj[:seq_length] = (\n",
    "                scale_traj * (traj[:seq_length])\n",
    "                + np.random.rand(1) * shift_traj\n",
    "            )\n",
    "\n",
    "            traj[seq_length:] = (\n",
    "                scale_traj * (traj[seq_length:])\n",
    "                + np.random.rand(1) * shift_traj\n",
    "            )\n",
    "\n",
    "            trajectories.append(\n",
    "                np.transpose([traj[:seq_length], traj[seq_length:]])\n",
    "            )\n",
    "        return trajectories\n",
    "    return inner\n",
    "\n",
    "def to_xml(**kwargs): # , mean_radii, std_radius\n",
    "    def inner(data):\n",
    "\n",
    "        root = minidom.Document()\n",
    "        xml = root.createElement(\"root\")\n",
    "        root.appendChild(xml)\n",
    "\n",
    "        data, intensities = dataset.update().resolve()  \n",
    "        \n",
    "        description = root.createElement(\"GlobalHeterogenousInfo\")\n",
    "        description.attributes[\"scenario\"] = \"Heterogeneous alpha\"\n",
    "        #description.attributes[\"global_prop\"] = str(data[0].get_property(\"percentage_alpha\"))\n",
    "        description.attributes[\"total_particles\"] = str(np.sum(data[0].get_property(\"N\")))\n",
    "        description.attributes[\"sequence_length\"] = str(data[0].get_property(\"seq_length\"))\n",
    "        description.attributes[\"model\"] = str(data[0].get_property(\"model\"))\n",
    "        description.attributes[\"generationDateTime\"] = str(date.today())\n",
    "        xml.appendChild(description)\n",
    "        \n",
    "    \n",
    "        #alphas = data[0].get_property(\"alpha\")\n",
    "        for idx, traj in enumerate(data): #, mean_radius # , mean_radii\n",
    "            particle = root.createElement(\"particle\")\n",
    "            description.appendChild(particle)\n",
    "            \n",
    "            traj = np.array(traj)\n",
    "            #intensities = np.random.normal(len(traj))\n",
    "            #radii = np.random.normal(mean_radius, std_radius, len(traj))\n",
    "            for frame, coord in enumerate(traj): # , radius # , radii\n",
    "                point = root.createElement(\"detection\")\n",
    "                point.attributes[\"frame\"] = str(frame)\n",
    "                point.attributes[\"x\"] = str(coord[0])\n",
    "                point.attributes[\"y\"] = str(coord[1])\n",
    "                point.attributes[\"intensity\"] = str(intensities[idx, frame])\n",
    "                \n",
    "                point.attributes[\"solution\"] = str(0)#str(alphas[idx])\n",
    "                \n",
    "                particle.appendChild(point)\n",
    "    \n",
    "        return root\n",
    "    return inner\n",
    "\n",
    "\n",
    "import numpy as np\n",
    "\n",
    "def generate_fix_sum_random_vec(limit, num_elem, tries=10):\n",
    "    v = np.random.randint(0, limit, num_elem)\n",
    "    s = sum(v)\n",
    "    if (np.sum(np.round(v/s*limit)) == limit):\n",
    "        return np.round(v / s * limit)\n",
    "    elif (np.sum(np.floor(v/s*limit)) == limit):\n",
    "        return np.floor(v / s * limit)\n",
    "    elif (np.sum(np.ceil(v/s*limit)) == limit):\n",
    "        return np.ceil(v / s * limit)\n",
    "    else:\n",
    "        return generate_fix_sum_random_vec(limit, num_elem, tries-1)"
   ]
  },
  {
   "cell_type": "code",
   "execution_count": 76,
   "metadata": {},
   "outputs": [],
   "source": [
    "\n",
    "class Sim(dt.Feature):\n",
    "\n",
    "    def get(self, image, N, seq_length, **kwargs):\n",
    "\n",
    "        box_size = [100, 530]\n",
    "        radius = 3 + np.random.rand(N)*1\n",
    "\n",
    "        intensities = np.zeros((N, seq_length))\n",
    "        a = 60+np.random.rand(N)*35\n",
    "        for i in range(len(intensities)):\n",
    "            b = np.random.normal(loc = a[i], scale = 2, size = seq_length)\n",
    "\n",
    "            intensities[i,:] = b \n",
    "                \n",
    "        x_0 = 0 + np.random.rand(N)*box_size[1]\n",
    "        y_0 = 0 + np.random.rand(N)*box_size[0]\n",
    "\n",
    "        v = 4+np.random.rand(N)*2\n",
    "        for i in range(len(v)):\n",
    "            if np.random.rand()>.2:\n",
    "                v[i] /= 6\n",
    "                \n",
    "        #T = 5 #sec\n",
    "        del_t = 1 # sec\n",
    "\n",
    "        phi = np.random.rand(N)*2*np.pi\n",
    "\n",
    "        D_t = np.ones(N)*.2\n",
    "        D_r = np.ones(N)*.5\n",
    "\n",
    "\n",
    "        x = np.zeros((seq_length+1, N))\n",
    "        y = np.zeros((seq_length+1, N))\n",
    "\n",
    "        x[0] = x_0\n",
    "        y[0] = y_0\n",
    "\n",
    "                \n",
    "        for i in range(seq_length):\n",
    "            W_x = np.random.normal(loc = 0, scale = 1, size = N)\n",
    "            W_y = np.random.normal(loc = 0, scale = 1, size = N)\n",
    "            W_phi = np.random.normal(loc = 0, scale = 1, size = N)\n",
    "\n",
    "            #Updating x & y velocities\n",
    "            v_x = v*np.transpose(np.cos(phi)) + np.sqrt(2*D_t)*W_x\n",
    "\n",
    "            v_y = v*np.transpose(np.sin(phi)) + np.sqrt(2*D_t)*W_y\n",
    "\n",
    "            #Updating rotational vel.\n",
    "            v_phi = np.sqrt(2*D_r)*W_phi\n",
    "            \n",
    "            #Updating the x and y coordinates\n",
    "\n",
    "            x[i+1] = x[i] +v_x*del_t\n",
    "            y[i+1] = y[i] + v_y*del_t\n",
    "\n",
    "            #Updating angle\n",
    "            phi = phi + v_phi*del_t\n",
    "            \n",
    "            for _ in range(25):\n",
    "\n",
    "                for j in range(N):\n",
    "                    for k in range(N):\n",
    "                        if j!=k:\n",
    "                            r_jk = np.sqrt(np.square(x[i+1,j]-x[i+1,k])+ np.square(y[i+1,j]-y[i+1,k]) )\n",
    "                            if r_jk < (radius[j]+radius[k]):\n",
    "                                dist_2b_moved = radius[j]+radius[k] - r_jk\n",
    "                                theta = np.arctan2([y[i+1,k], y[i+1,j]], [x[i+1,k], x[i+1,j]])[0]\n",
    "                                x[i+1, j] -= dist_2b_moved/2*np.cos(theta)\n",
    "                                y[i+1, j] -= dist_2b_moved/2*np.sin(theta)\n",
    "                                            \n",
    "                                x[i+1, k] += dist_2b_moved/2*np.cos(theta)\n",
    "                                y[i+1, k] += dist_2b_moved/2*np.sin(theta)\n",
    "                            \n",
    "            for p in range(N):\n",
    "                if x[i+1,p] >= box_size[1] and y[i+1,p] >= box_size[0]:\n",
    "                    x[i+1,p] = box_size[1]\n",
    "                    y[i+1,p] = box_size[0]\n",
    "                    phi[p] = -3*np.pi/4\n",
    "                    continue\n",
    "\n",
    "                if x[i+1,p] >= box_size[1] and y[i+1,p] <= 0:\n",
    "                    x[i+1,p] = box_size[1]\n",
    "                    y[i+1,p] = 0\n",
    "                    phi[p] = 3*np.pi/4\n",
    "                    continue\n",
    "\n",
    "                if x[i+1,p] <= 0 and y[i+1,p] >= box_size[0]:\n",
    "                    x[i+1,p] = 0\n",
    "                    y[i+1,p] = box_size[0]\n",
    "                    phi[p] = -np.pi/4\n",
    "                    continue\n",
    "\n",
    "                if x[i+1,p] <= 0 and y[i+1,p] <= 0:\n",
    "                    x[i+1,p] = 0\n",
    "                    y[i+1,p] = 0\n",
    "                    phi[p] = np.pi/4\n",
    "                    continue\n",
    "\n",
    "                if x[i+1,p] > box_size[1]: \n",
    "                    x[i+1,p] = box_size[1]\n",
    "                    phi[p] = np.pi-phi[p]\n",
    "\n",
    "                if x[i+1,p] <= 0:\n",
    "                    x[i+1,p] = 0\n",
    "                    phi[p] = np.pi-phi[p]\n",
    "                \n",
    "                if y[i+1,p] > box_size[0]: \n",
    "                    y[i+1,p] = box_size[0]\n",
    "                    phi[p] = -phi[p]\n",
    "\n",
    "                if y[i+1,p] < 0:\n",
    "                    y[i+1,p] = 0\n",
    "                    phi[p] = -phi[p]\n",
    "                \n",
    "        return np.transpose(np.array([x[1:,:], y[1:,:]])), intensities\n",
    "\n",
    "\n"
   ]
  },
  {
   "cell_type": "code",
   "execution_count": 77,
   "metadata": {},
   "outputs": [],
   "source": [
    "\n",
    "sim = Sim(\n",
    "    N=lambda: 60 + np.random.randint(10) ,\n",
    "    seq_length=lambda: 30 + np.random.randint(10) ,\n",
    "    \n",
    ")\n",
    "\n",
    "starting_value = dt.Value(lambda: np.ones((10, 10)))\n",
    "\n",
    "dataset = starting_value >> sim"
   ]
  },
  {
   "cell_type": "code",
   "execution_count": 68,
   "metadata": {},
   "outputs": [],
   "source": [
    "data, intensities = dataset.update().resolve()"
   ]
  },
  {
   "cell_type": "code",
   "execution_count": 78,
   "metadata": {},
   "outputs": [],
   "source": [
    "xml_loader = dataset >> dt.Lambda(\n",
    "     to_xml\n",
    "     \n",
    "     )\n",
    "        \n",
    "     \n",
    "     "
   ]
  },
  {
   "cell_type": "code",
   "execution_count": 79,
   "metadata": {},
   "outputs": [],
   "source": [
    "mode = [\"training\",\"testing\"]\n",
    "os.makedirs(\"xml-generators/xml_data/mixed_alpha_nodes/\"+mode[0], exist_ok=True)\n",
    "os.makedirs(\"xml-generators/xml_data/mixed_alpha_nodes/\"+mode[1], exist_ok=True)"
   ]
  },
  {
   "cell_type": "code",
   "execution_count": 80,
   "metadata": {},
   "outputs": [],
   "source": [
    "_SAMPLES_ = [200, 5] #[Training, Testing]\n",
    "\n",
    "for i in range(len(_SAMPLES_)):\n",
    "    for sample in range(_SAMPLES_[i]):\n",
    "        xml = xml_loader.update().resolve()\n",
    "        with open(\"xml-generators/xml_data/mixed_alpha_nodes/\"+mode[i]+\"/sample_\"+str(sample+1)+\".xml\", \"w\") as f:\n",
    "            f.write(xml.toprettyxml(indent =\"\\t\"))"
   ]
  },
  {
   "cell_type": "code",
   "execution_count": null,
   "metadata": {},
   "outputs": [],
   "source": []
  },
  {
   "cell_type": "code",
   "execution_count": 45,
   "metadata": {},
   "outputs": [],
   "source": [
    "import untangle\n",
    "\n",
    "path  = \"./xml-generators_sim/xml_data/mixed_alpha_nodes/training/sample_2.xml\"\n",
    "xml = untangle.parse(path)"
   ]
  },
  {
   "cell_type": "code",
   "execution_count": 46,
   "metadata": {},
   "outputs": [],
   "source": [
    "particles = xml.root.GlobalHeterogenousInfo.particle\n",
    "\n",
    "detection_list = []\n",
    "for p in range(len(particles)):\n",
    "    detections = particles[p].detection\n",
    "    for d in range(len(detections)):\n",
    "        detection_att = {\n",
    "            \"frame\": int(detections[d][\"frame\"]),\n",
    "            \"centroid_x\": float(detections[d][\"x\"]),\n",
    "            \"centroid_y\": float(detections[d][\"y\"]),\n",
    "            #\"intensity\": float(detections[d][\"intensity\"]),\n",
    "            \"label\": int(p + 1),\n",
    "            \"solution\": float(detections[d][\"solution\"])\n",
    "            }\n",
    "        detection_list.append(detection_att)"
   ]
  },
  {
   "cell_type": "code",
   "execution_count": 47,
   "metadata": {},
   "outputs": [],
   "source": [
    "import pandas as pd\n",
    "df = (\n",
    "    pd.DataFrame.from_dict(detection_list)\n",
    "    .sort_values(by=[\"frame\"])\n",
    "    .reset_index(drop=True)\n",
    ")"
   ]
  },
  {
   "cell_type": "code",
   "execution_count": 49,
   "metadata": {},
   "outputs": [
    {
     "data": {
      "text/plain": [
       "<matplotlib.colorbar.Colorbar at 0x1dc84ae2cd0>"
      ]
     },
     "execution_count": 49,
     "metadata": {},
     "output_type": "execute_result"
    },
    {
     "data": {
      "image/png": "[encoded data removed]",
      "text/plain": [
       "<Figure size 432x288 with 2 Axes>"
      ]
     },
     "metadata": {
      "needs_background": "light"
     },
     "output_type": "display_data"
    }
   ],
   "source": [
    "x = df[\"centroid_x\"].values\n",
    "y = df[\"centroid_y\"].values\n",
    "z = df[\"label\"].values\n",
    "\n",
    "import matplotlib.pyplot as plt\n",
    "\n",
    "plt.scatter(x, y, c=z, s=1)\n",
    "plt.colorbar()"
   ]
  },
  {
   "cell_type": "code",
   "execution_count": null,
   "metadata": {},
   "outputs": [],
   "source": []
  }
 ],
 "metadata": {
  "interpreter": {
   "hash": "66d3826222bf113b743ef904c03768c2b736ada1a7cfbeeca36e47bd84a0fc5c"
  },
  "kernelspec": {
   "display_name": "Python 3.9.0 64-bit",
   "language": "python",
   "name": "python3"
  },
  "language_info": {
   "codemirror_mode": {
    "name": "ipython",
    "version": 3
   },
   "file_extension": ".py",
   "mimetype": "text/x-python",
   "name": "python",
   "nbconvert_exporter": "python",
   "pygments_lexer": "ipython3",
   "version": "3.9.0"
  },
  "orig_nbformat": 4
 },
 "nbformat": 4,
 "nbformat_minor": 2
}
