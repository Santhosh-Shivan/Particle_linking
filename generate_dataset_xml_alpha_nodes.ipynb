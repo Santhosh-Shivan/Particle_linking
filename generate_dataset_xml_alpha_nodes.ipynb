{
 "cells": [
  {
   "cell_type": "code",
   "execution_count": 1,
   "metadata": {},
   "outputs": [
    {
     "name": "stderr",
     "output_type": "stream",
     "text": [
      "c:\\Users\\santh\\Desktop\\Python Projects\\Masters Thesis\\Multi_particleTracking\\GraphTrack\\graphtrack\\deeptrack\\backend\\_config.py:11: UserWarning: cupy not installed. GPU-accelerated simulations will not be possible\n",
      "  warnings.warn(\n",
      "c:\\Users\\santh\\Desktop\\Python Projects\\Masters Thesis\\Multi_particleTracking\\GraphTrack\\graphtrack\\deeptrack\\backend\\_config.py:25: UserWarning: cupy not installed, CPU acceleration not enabled\n",
      "  warnings.warn(\"cupy not installed, CPU acceleration not enabled\")\n"
     ]
    }
   ],
   "source": [
    "import sys\n",
    "sys.path.append(\"..\")\n",
    "\n",
    "import andi\n",
    "from graphtrack import deeptrack as dt\n",
    "\n",
    "import numpy as np\n",
    "\n",
    "from xml.dom import minidom\n",
    "import os\n",
    "from datetime import date"
   ]
  },
  {
   "cell_type": "code",
   "execution_count": 2,
   "metadata": {},
   "outputs": [],
   "source": [
    "\"\"\"max_x = 0\n",
    "max_y = 0\"\"\"\n",
    "def ProcessDataset(scale_traj, shift_traj, seq_length = 10, **kwargs):\n",
    "    def inner(data):\n",
    "        trajectories = []\n",
    "        trajs = np.array(data)[:, 2:]\n",
    "        \n",
    "        # scale, shift, strip\n",
    "        for traj in trajs:\n",
    "            traj[:seq_length] = (\n",
    "                scale_traj * (traj[:seq_length])\n",
    "                + np.random.rand(1) * shift_traj\n",
    "            )\n",
    "\n",
    "            traj[seq_length:] = (\n",
    "                scale_traj * (traj[seq_length:])\n",
    "                + np.random.rand(1) * shift_traj\n",
    "            )\n",
    "\n",
    "            trajectories.append(\n",
    "                np.transpose([traj[:seq_length], traj[seq_length:]])\n",
    "            )\n",
    "        return trajectories\n",
    "    return inner\n",
    "\n",
    "def to_xml(mean_intensities, std_intensity, **kwargs): # , mean_radii, std_radius\n",
    "    def inner(data):\n",
    "\n",
    "        root = minidom.Document()\n",
    "        xml = root.createElement(\"root\")\n",
    "        root.appendChild(xml)\n",
    "\n",
    "        data = dataset.update().resolve() \n",
    "\n",
    "        description = root.createElement(\"GlobalHeterogenousInfo\")\n",
    "        description.attributes[\"scenario\"] = \"Heterogeneous alpha\"\n",
    "        #description.attributes[\"global_prop\"] = str(data[0].get_property(\"percentage_alpha\"))\n",
    "        description.attributes[\"total_particles\"] = str(np.sum(data[0].get_property(\"N\")))\n",
    "        description.attributes[\"sequence_length\"] = str(data[0].get_property(\"seq_length\"))\n",
    "        description.attributes[\"model\"] = str(data[0].get_property(\"model\"))\n",
    "        description.attributes[\"generationDateTime\"] = str(date.today())\n",
    "        xml.appendChild(description)\n",
    "        \n",
    "    \n",
    "        alphas = data[0].get_property(\"alpha\")\n",
    "        for idx, (traj, mean_intensity) in enumerate(zip(data, mean_intensities)): #, mean_radius # , mean_radii\n",
    "            particle = root.createElement(\"particle\")\n",
    "            description.appendChild(particle)\n",
    "\n",
    "            traj = np.array(traj)\n",
    "            intensities = np.random.normal(mean_intensity, std_intensity, len(traj))\n",
    "            #radii = np.random.normal(mean_radius, std_radius, len(traj))\n",
    "            for frame, [coord, intensity] in enumerate(zip(traj, intensities)): # , radius # , radii\n",
    "                point = root.createElement(\"detection\")\n",
    "                point.attributes[\"frame\"] = str(frame)\n",
    "                point.attributes[\"x\"] = str(coord[0])\n",
    "                point.attributes[\"y\"] = str(coord[1])\n",
    "                point.attributes[\"intensity\"] = str(intensity)\n",
    "                #point.attributes[\"radius\"] = str(radius)\n",
    "                point.attributes[\"solution\"] = str(alphas[idx])\n",
    "                \n",
    "                particle.appendChild(point)\n",
    "    \n",
    "        return root\n",
    "    return inner\n",
    "\n",
    "\n",
    "import numpy as np\n",
    "\n",
    "def generate_fix_sum_random_vec(limit, num_elem, tries=10):\n",
    "    v = np.random.randint(0, limit, num_elem)\n",
    "    s = sum(v)\n",
    "    if (np.sum(np.round(v/s*limit)) == limit):\n",
    "        return np.round(v / s * limit)\n",
    "    elif (np.sum(np.floor(v/s*limit)) == limit):\n",
    "        return np.floor(v / s * limit)\n",
    "    elif (np.sum(np.ceil(v/s*limit)) == limit):\n",
    "        return np.ceil(v / s * limit)\n",
    "    else:\n",
    "        return generate_fix_sum_random_vec(limit, num_elem, tries-1)"
   ]
  },
  {
   "cell_type": "code",
   "execution_count": 30,
   "metadata": {},
   "outputs": [],
   "source": [
    "import random\n",
    "\n",
    "def shuffle_along_axis(a, axis):\n",
    "    idx = np.random.rand(*a.shape).argsort(axis=axis)\n",
    "    return np.take_along_axis(a,idx,axis=axis)\n",
    "    \n",
    "root = dt.DummyFeature(\n",
    "    seq_length=lambda: np.random.randint(25, 30),\n",
    "    N = lambda total_n_of_particles: np.ones((1, total_n_of_particles)).astype(int),\n",
    "    total_n_of_particles=lambda: np.random.randint(50, 60),\n",
    "    alpha = lambda total_n_of_particles: random.sample(list(np.round(0.2+1.2*np.random.rand(200),2)), total_n_of_particles),#random.sample(list(np.round(np.linspace(0.20, 1.80, 200),2)),total_n_of_particles)\n",
    "    model=2, \n",
    ") \n",
    "\n",
    "dataset = root >> dt.Value(\n",
    "    value = lambda seq_length, N, alpha, model: andi.andi_datasets().create_dataset(\n",
    "            T=seq_length, N=N, exponents=alpha, models=model, dimension=2),\n",
    "    **root.properties\n",
    ") >> dt.Lambda(ProcessDataset,\n",
    "    scale_traj=lambda: np.random.uniform(10, 15),\n",
    "    shift_traj=30, \n",
    "     **root.properties\n",
    " ) "
   ]
  },
  {
   "cell_type": "code",
   "execution_count": 31,
   "metadata": {},
   "outputs": [
    {
     "data": {
      "text/plain": [
       "(58, 25, 2)"
      ]
     },
     "execution_count": 31,
     "metadata": {},
     "output_type": "execute_result"
    }
   ],
   "source": [
    "np.shape(np.array(dataset.resolve()))"
   ]
  },
  {
   "cell_type": "code",
   "execution_count": 32,
   "metadata": {},
   "outputs": [
    {
     "data": {
      "text/plain": [
       "'mean_radii = lambda min_radius, max_radius, N: np.random.choice(\\n         np.arange(\\n             min_radius, \\n             max_radius\\n             ), \\n         size=np.sum(N)\\n     ),\\n     min_radius = 2, \\n     max_radius = 3, \\n     std_radius = .3,'"
      ]
     },
     "execution_count": 32,
     "metadata": {},
     "output_type": "execute_result"
    }
   ],
   "source": [
    "\n",
    " \n",
    "xml_loader = dataset >> dt.Lambda(\n",
    "     to_xml, \n",
    "    mean_intensities = lambda min_intensity, max_intensity, N: np.random.choice(\n",
    "         np.arange(\n",
    "             min_intensity, \n",
    "             max_intensity\n",
    "             ), \n",
    "         size=np.sum(N)\n",
    "     ),\n",
    "     min_intensity = 60, \n",
    "     max_intensity = 95,\n",
    "     std_intensity = 3,\n",
    "    \n",
    "     \n",
    "     **root.properties)\n",
    "\n",
    "\"\"\"mean_radii = lambda min_radius, max_radius, N: np.random.choice(\n",
    "         np.arange(\n",
    "             min_radius, \n",
    "             max_radius\n",
    "             ), \n",
    "         size=np.sum(N)\n",
    "     ),\n",
    "     min_radius = 2, \n",
    "     max_radius = 3, \n",
    "     std_radius = .3,\"\"\""
   ]
  },
  {
   "cell_type": "code",
   "execution_count": 34,
   "metadata": {},
   "outputs": [],
   "source": [
    "mode = [\"training\",\"testing\"]\n",
    "os.makedirs(\"xml-generators1/xml_data/mixed_alpha_nodes/\"+mode[0], exist_ok=True)\n",
    "os.makedirs(\"xml-generators1/xml_data/mixed_alpha_nodes/\"+mode[1], exist_ok=True)"
   ]
  },
  {
   "cell_type": "code",
   "execution_count": 35,
   "metadata": {},
   "outputs": [],
   "source": [
    "_SAMPLES_ = [5, 5] #[Training, Testing]\n",
    "\n",
    "for i in range(len(_SAMPLES_)):\n",
    "    for sample in range(_SAMPLES_[i]):\n",
    "        xml = xml_loader.update().resolve()\n",
    "        with open(\"xml-generators1/xml_data/mixed_alpha_nodes/\"+mode[i]+\"/sample_\"+str(sample+1)+\".xml\", \"w\") as f:\n",
    "            f.write(xml.toprettyxml(indent =\"\\t\"))"
   ]
  },
  {
   "cell_type": "code",
   "execution_count": 36,
   "metadata": {},
   "outputs": [],
   "source": [
    "import untangle\n",
    "\n",
    "path  = \"./xml-generators1/xml_data/mixed_alpha_nodes/training/sample_2.xml\"\n",
    "xml = untangle.parse(path)"
   ]
  },
  {
   "cell_type": "code",
   "execution_count": 37,
   "metadata": {},
   "outputs": [],
   "source": [
    "particles = xml.root.GlobalHeterogenousInfo.particle\n",
    "\n",
    "detection_list = []\n",
    "for p in range(len(particles)):\n",
    "    detections = particles[p].detection\n",
    "    for d in range(len(detections)):\n",
    "        detection_att = {\n",
    "            \"frame\": int(detections[d][\"frame\"]),\n",
    "            \"centroid_x\": float(detections[d][\"x\"]),\n",
    "            \"centroid_y\": float(detections[d][\"y\"]),\n",
    "            #\"intensity\": float(detections[d][\"intensity\"]),\n",
    "            \"label\": int(p + 1),\n",
    "            \"solution\": float(detections[d][\"solution\"])\n",
    "            }\n",
    "        detection_list.append(detection_att)"
   ]
  },
  {
   "cell_type": "code",
   "execution_count": 38,
   "metadata": {},
   "outputs": [],
   "source": [
    "import pandas as pd\n",
    "df = (\n",
    "    pd.DataFrame.from_dict(detection_list)\n",
    "    .sort_values(by=[\"frame\"])\n",
    "    .reset_index(drop=True)\n",
    ")"
   ]
  },
  {
   "cell_type": "code",
   "execution_count": 39,
   "metadata": {},
   "outputs": [
    {
     "data": {
      "text/plain": [
       "<matplotlib.colorbar.Colorbar at 0x1f01f3f7700>"
      ]
     },
     "execution_count": 39,
     "metadata": {},
     "output_type": "execute_result"
    },
    {
     "data": {
      "image/png": "[encoded data removed]",
      "text/plain": [
       "<Figure size 432x288 with 2 Axes>"
      ]
     },
     "metadata": {
      "needs_background": "light"
     },
     "output_type": "display_data"
    }
   ],
   "source": [
    "x = df[\"centroid_x\"].values\n",
    "y = df[\"centroid_y\"].values\n",
    "z = df[\"solution\"].values\n",
    "\n",
    "import matplotlib.pyplot as plt\n",
    "\n",
    "plt.scatter(x, y, c=z, s=1)\n",
    "plt.colorbar()"
   ]
  },
  {
   "cell_type": "code",
   "execution_count": null,
   "metadata": {},
   "outputs": [],
   "source": []
  }
 ],
 "metadata": {
  "interpreter": {
   "hash": "01eafbc03f398b6ef6f7e15c25a5eb102011900bf800f4c737450dda12208f9c"
  },
  "kernelspec": {
   "display_name": "Python 3.8.6 64-bit",
   "language": "python",
   "name": "python3"
  },
  "language_info": {
   "codemirror_mode": {
    "name": "ipython",
    "version": 3
   },
   "file_extension": ".py",
   "mimetype": "text/x-python",
   "name": "python",
   "nbconvert_exporter": "python",
   "pygments_lexer": "ipython3",
   "version": "3.9.0"
  },
  "orig_nbformat": 4
 },
 "nbformat": 4,
 "nbformat_minor": 2
}
