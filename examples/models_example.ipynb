{
 "cells": [
  {
   "cell_type": "code",
   "execution_count": 1,
   "source": [
    "import sys\r\n",
    "\r\n",
    "## Adds the module to path\r\n",
    "sys.path.append(\"..\")"
   ],
   "outputs": [],
   "metadata": {}
  },
  {
   "cell_type": "markdown",
   "source": [
    "# Model example"
   ],
   "metadata": {}
  },
  {
   "cell_type": "markdown",
   "source": [
    "## 1. Setup\r\n",
    "Imports needed for this tutorial"
   ],
   "metadata": {}
  },
  {
   "cell_type": "code",
   "execution_count": 2,
   "source": [
    "import graphtrack as gt \r\n",
    "import numpy as np\r\n",
    "\r\n",
    "import logging\r\n",
    "logging.disable(logging.WARNING) "
   ],
   "outputs": [],
   "metadata": {}
  },
  {
   "cell_type": "markdown",
   "source": [
    "## 2. Define the neural network model\r\n",
    "\r\n",
    "The neural network architecture used is a message passing graph neural network. We create this model by calling the function `mpGraphNet()`."
   ],
   "metadata": {}
  },
  {
   "cell_type": "code",
   "execution_count": 3,
   "source": [
    "model = gt.gnns.mpGraphNet(\r\n",
    "    dense_layer_dimensions=(32, 64, 96),\r\n",
    "    base_layer_dimensions=(96, 96),\r\n",
    "    number_of_outputs=2,\r\n",
    "    output_activation=\"sigmoid\"\r\n",
    ")"
   ],
   "outputs": [],
   "metadata": {}
  },
  {
   "cell_type": "markdown",
   "source": [
    "## 3. Test model\r\n",
    "\r\n",
    "Now, we evaluate the model on randomly-generated node features, edge features, and connection matrix. "
   ],
   "metadata": {}
  },
  {
   "cell_type": "code",
   "execution_count": 4,
   "source": [
    "_printer = \"{0} shape: {1}\"\r\n",
    "\r\n",
    "# We evaluate the model on randomly-generated node features,\r\n",
    "# edge features, and connection matrix.\r\n",
    "\r\n",
    "# Define nodes. Random matrix with 5 nodes,64 node features,\r\n",
    "# and batch size of 8.\r\n",
    "nodes = np.random.rand(8, 5, 64)\r\n",
    "print(_printer.format(\"Nodes\", nodes.shape))\r\n",
    "\r\n",
    "# Define edges. Random connection matrix with 10 edges, and batch size\r\n",
    "# of 8. First column is the sender, and\r\n",
    "# second column is the receiver.\r\n",
    "edges = np.random.randint(low=0, high=5, size=(8, 10, 2))\r\n",
    "print(_printer.format(\"Edges\", edges.shape))\r\n",
    "\r\n",
    "# Define edge features. Random matrix with 10 edges, 32 edge features,\r\n",
    "# and batch size of 8.\r\n",
    "edge_f = np.random.rand(8, 10, 32)\r\n",
    "print(_printer.format(\"Edge features\", edge_f.shape))"
   ],
   "outputs": [
    {
     "output_type": "stream",
     "name": "stdout",
     "text": [
      "Nodes shape: (8, 5, 64)\n",
      "Edges shape: (8, 10, 2)\n",
      "Edge features shape: (8, 10, 32)\n"
     ]
    }
   ],
   "metadata": {}
  },
  {
   "cell_type": "code",
   "execution_count": 5,
   "source": [
    "# Evaluate the model\r\n",
    "output_nodes, output_edge_f = model([nodes, edge_f, edges])\r\n",
    "\r\n",
    "print(_printer.format(\"Output nodes\", output_nodes.shape))\r\n",
    "print(_printer.format(\"Output edge features\", output_edge_f.shape))"
   ],
   "outputs": [
    {
     "output_type": "stream",
     "name": "stdout",
     "text": [
      "Output nodes shape: (8, 5, 2)\n",
      "Output edge features shape: (8, 10, 2)\n"
     ]
    }
   ],
   "metadata": {}
  }
 ],
 "metadata": {
  "orig_nbformat": 4,
  "language_info": {
   "name": "python",
   "version": "3.8.6",
   "mimetype": "text/x-python",
   "codemirror_mode": {
    "name": "ipython",
    "version": 3
   },
   "pygments_lexer": "ipython3",
   "nbconvert_exporter": "python",
   "file_extension": ".py"
  },
  "kernelspec": {
   "name": "python3",
   "display_name": "Python 3.8.6 64-bit"
  },
  "interpreter": {
   "hash": "01eafbc03f398b6ef6f7e15c25a5eb102011900bf800f4c737450dda12208f9c"
  }
 },
 "nbformat": 4,
 "nbformat_minor": 2
}